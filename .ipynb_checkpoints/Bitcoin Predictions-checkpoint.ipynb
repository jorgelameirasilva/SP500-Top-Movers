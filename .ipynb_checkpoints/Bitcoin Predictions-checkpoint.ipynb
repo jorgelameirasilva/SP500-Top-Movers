{
 "cells": [
  {
   "cell_type": "code",
   "execution_count": 1,
   "metadata": {},
   "outputs": [],
   "source": [
    "import yfinance as yf\n",
    "import pandas as pd\n",
    "import numpy as np\n",
    "import matplotlib.pyplot as plt\n",
    "import tensorflow as tf"
   ]
  },
  {
   "cell_type": "code",
   "execution_count": 2,
   "metadata": {},
   "outputs": [],
   "source": [
    "from sklearn.model_selection import train_test_split"
   ]
  },
  {
   "cell_type": "code",
   "execution_count": 3,
   "metadata": {},
   "outputs": [
    {
     "name": "stdout",
     "output_type": "stream",
     "text": [
      "[*********************100%***********************]  1 of 1 completed\n"
     ]
    }
   ],
   "source": [
    "df = yf.download(\"BTC-USD\")"
   ]
  },
  {
   "cell_type": "code",
   "execution_count": 4,
   "metadata": {},
   "outputs": [],
   "source": [
    "df.reset_index(inplace=True)"
   ]
  },
  {
   "cell_type": "code",
   "execution_count": 5,
   "metadata": {},
   "outputs": [],
   "source": [
    "df = df[[\"Date\", \"Close\"]]"
   ]
  },
  {
   "cell_type": "code",
   "execution_count": 6,
   "metadata": {},
   "outputs": [
    {
     "data": {
      "text/html": [
       "<div>\n",
       "<style scoped>\n",
       "    .dataframe tbody tr th:only-of-type {\n",
       "        vertical-align: middle;\n",
       "    }\n",
       "\n",
       "    .dataframe tbody tr th {\n",
       "        vertical-align: top;\n",
       "    }\n",
       "\n",
       "    .dataframe thead th {\n",
       "        text-align: right;\n",
       "    }\n",
       "</style>\n",
       "<table border=\"1\" class=\"dataframe\">\n",
       "  <thead>\n",
       "    <tr style=\"text-align: right;\">\n",
       "      <th></th>\n",
       "      <th>Date</th>\n",
       "      <th>Close</th>\n",
       "    </tr>\n",
       "  </thead>\n",
       "  <tbody>\n",
       "    <tr>\n",
       "      <th>0</th>\n",
       "      <td>2014-09-17</td>\n",
       "      <td>457.334015</td>\n",
       "    </tr>\n",
       "    <tr>\n",
       "      <th>1</th>\n",
       "      <td>2014-09-18</td>\n",
       "      <td>424.440002</td>\n",
       "    </tr>\n",
       "    <tr>\n",
       "      <th>2</th>\n",
       "      <td>2014-09-19</td>\n",
       "      <td>394.795990</td>\n",
       "    </tr>\n",
       "    <tr>\n",
       "      <th>3</th>\n",
       "      <td>2014-09-20</td>\n",
       "      <td>408.903992</td>\n",
       "    </tr>\n",
       "    <tr>\n",
       "      <th>4</th>\n",
       "      <td>2014-09-21</td>\n",
       "      <td>398.821014</td>\n",
       "    </tr>\n",
       "    <tr>\n",
       "      <th>...</th>\n",
       "      <td>...</td>\n",
       "      <td>...</td>\n",
       "    </tr>\n",
       "    <tr>\n",
       "      <th>2307</th>\n",
       "      <td>2021-01-10</td>\n",
       "      <td>38356.441406</td>\n",
       "    </tr>\n",
       "    <tr>\n",
       "      <th>2308</th>\n",
       "      <td>2021-01-11</td>\n",
       "      <td>35566.656250</td>\n",
       "    </tr>\n",
       "    <tr>\n",
       "      <th>2309</th>\n",
       "      <td>2021-01-12</td>\n",
       "      <td>33922.960938</td>\n",
       "    </tr>\n",
       "    <tr>\n",
       "      <th>2310</th>\n",
       "      <td>2021-01-13</td>\n",
       "      <td>37316.359375</td>\n",
       "    </tr>\n",
       "    <tr>\n",
       "      <th>2311</th>\n",
       "      <td>2021-01-14</td>\n",
       "      <td>39373.359375</td>\n",
       "    </tr>\n",
       "  </tbody>\n",
       "</table>\n",
       "<p>2312 rows × 2 columns</p>\n",
       "</div>"
      ],
      "text/plain": [
       "           Date         Close\n",
       "0    2014-09-17    457.334015\n",
       "1    2014-09-18    424.440002\n",
       "2    2014-09-19    394.795990\n",
       "3    2014-09-20    408.903992\n",
       "4    2014-09-21    398.821014\n",
       "...         ...           ...\n",
       "2307 2021-01-10  38356.441406\n",
       "2308 2021-01-11  35566.656250\n",
       "2309 2021-01-12  33922.960938\n",
       "2310 2021-01-13  37316.359375\n",
       "2311 2021-01-14  39373.359375\n",
       "\n",
       "[2312 rows x 2 columns]"
      ]
     },
     "execution_count": 6,
     "metadata": {},
     "output_type": "execute_result"
    }
   ],
   "source": [
    "df"
   ]
  },
  {
   "cell_type": "code",
   "execution_count": 7,
   "metadata": {},
   "outputs": [
    {
     "data": {
      "text/plain": [
       "[<matplotlib.lines.Line2D at 0x7fa8436bd280>]"
      ]
     },
     "execution_count": 7,
     "metadata": {},
     "output_type": "execute_result"
    },
    {
     "data": {
      "image/png": "[encoded data removed]",
      "text/plain": [
       "<Figure size 432x288 with 1 Axes>"
      ]
     },
     "metadata": {
      "needs_background": "light"
     },
     "output_type": "display_data"
    }
   ],
   "source": [
    "plt.plot(df[\"Date\"], df[\"Close\"])"
   ]
  },
  {
   "cell_type": "code",
   "execution_count": 8,
   "metadata": {},
   "outputs": [
    {
     "name": "stderr",
     "output_type": "stream",
     "text": [
      "<ipython-input-8-6c0552a16a8c>:1: SettingWithCopyWarning: \n",
      "A value is trying to be set on a copy of a slice from a DataFrame.\n",
      "Try using .loc[row_indexer,col_indexer] = value instead\n",
      "\n",
      "See the caveats in the documentation: https://pandas.pydata.org/pandas-docs/stable/user_guide/indexing.html#returning-a-view-versus-a-copy\n",
      "  df[\"Close\"] = (df[\"Close\"] - df[\"Close\"].mean()) / df[\"Close\"].std()\n"
     ]
    }
   ],
   "source": [
    "df[\"Close\"] = (df[\"Close\"] - df[\"Close\"].mean()) / df[\"Close\"].std()"
   ]
  },
  {
   "cell_type": "code",
   "execution_count": 9,
   "metadata": {},
   "outputs": [],
   "source": [
    "# [[1,2,3,4,5,6,7,8,9,10,11,12,13,14,15], ] -> [16]"
   ]
  },
  {
   "cell_type": "code",
   "execution_count": 10,
   "metadata": {},
   "outputs": [],
   "source": [
    "x_train, x_val = train_test_split(df[\"Close\"], test_size=0.2, shuffle=False) \n",
    "x_val, x_test = train_test_split(x_val, test_size=0.4, shuffle=False) "
   ]
  },
  {
   "cell_type": "code",
   "execution_count": 11,
   "metadata": {},
   "outputs": [
    {
     "data": {
      "text/plain": [
       "0      -0.865466\n",
       "1      -0.871569\n",
       "2      -0.877069\n",
       "3      -0.874452\n",
       "4      -0.876323\n",
       "          ...   \n",
       "1844    0.562072\n",
       "1845    0.531766\n",
       "1846    0.579535\n",
       "1847    0.576411\n",
       "1848    0.644494\n",
       "Name: Close, Length: 1849, dtype: float64"
      ]
     },
     "execution_count": 11,
     "metadata": {},
     "output_type": "execute_result"
    }
   ],
   "source": [
    "x_train"
   ]
  },
  {
   "cell_type": "code",
   "execution_count": 12,
   "metadata": {},
   "outputs": [
    {
     "data": {
      "text/plain": [
       "1849    0.642775\n",
       "1850    0.593661\n",
       "1851    0.596406\n",
       "1852    0.593521\n",
       "1853    0.603481\n",
       "          ...   \n",
       "2121    0.798969\n",
       "2122    0.771071\n",
       "2123    0.771227\n",
       "2124    0.764091\n",
       "2125    0.770799\n",
       "Name: Close, Length: 277, dtype: float64"
      ]
     },
     "execution_count": 12,
     "metadata": {},
     "output_type": "execute_result"
    }
   ],
   "source": [
    "x_val"
   ]
  },
  {
   "cell_type": "code",
   "execution_count": 13,
   "metadata": {},
   "outputs": [
    {
     "data": {
      "text/plain": [
       "2126    0.764698\n",
       "2127    0.764623\n",
       "2128    0.755277\n",
       "2129    0.744032\n",
       "2130    0.747587\n",
       "          ...   \n",
       "2307    6.166151\n",
       "2308    5.648548\n",
       "2309    5.343585\n",
       "2310    5.973180\n",
       "2311    6.354825\n",
       "Name: Close, Length: 186, dtype: float64"
      ]
     },
     "execution_count": 13,
     "metadata": {},
     "output_type": "execute_result"
    }
   ],
   "source": [
    "x_test"
   ]
  },
  {
   "cell_type": "code",
   "execution_count": 14,
   "metadata": {},
   "outputs": [],
   "source": [
    "window_size=15\n",
    "batch_size = 32"
   ]
  },
  {
   "cell_type": "code",
   "execution_count": 15,
   "metadata": {},
   "outputs": [],
   "source": [
    "def windowed_ds(series, window_size, batch_size, shuffle_buffer):\n",
    "    ds = tf.data.Dataset.from_tensor_slices(series)\n",
    "    ds = ds.window(window_size + 1, shift=1, drop_remainder=True)\n",
    "    ds = ds.flat_map(lambda w: w.batch(window_size + 1))\n",
    "    ds = ds.shuffle(shuffle_buffer).map(lambda w: (w[:-1], w[-1]))\n",
    "    ds = ds.batch(batch_size).prefetch(1)\n",
    "    return ds\n",
    "        "
   ]
  },
  {
   "cell_type": "code",
   "execution_count": 16,
   "metadata": {},
   "outputs": [],
   "source": [
    "x_train_ds = windowed_ds(x_train, window_size, batch_size, x_train.shape[0])\n",
    "x_val_ds = windowed_ds(x_val, window_size, batch_size, x_val.shape[0])"
   ]
  },
  {
   "cell_type": "code",
   "execution_count": 38,
   "metadata": {},
   "outputs": [],
   "source": [
    "input_layer = tf.keras.layers.Input(shape=[window_size])\n",
    "l0 = tf.keras.layers.Dense(128, activation=\"relu\")(input_layer)\n",
    "l1 = tf.keras.layers.Dense(256, activation=\"relu\")(l0)\n",
    "output_layer = tf.keras.layers.Dense(1)(l1)\n",
    "\n",
    "model = tf.keras.models.Model(inputs=input_layer, outputs = output_layer)"
   ]
  },
  {
   "cell_type": "code",
   "execution_count": 35,
   "metadata": {},
   "outputs": [
    {
     "name": "stdout",
     "output_type": "stream",
     "text": [
      "Model: \"model_6\"\n",
      "_________________________________________________________________\n",
      "Layer (type)                 Output Shape              Param #   \n",
      "=================================================================\n",
      "input_7 (InputLayer)         [(None, 15)]              0         \n",
      "_________________________________________________________________\n",
      "dense_18 (Dense)             (None, 128)               2048      \n",
      "_________________________________________________________________\n",
      "dense_19 (Dense)             (None, 256)               33024     \n",
      "_________________________________________________________________\n",
      "dense_20 (Dense)             (None, 1)                 257       \n",
      "=================================================================\n",
      "Total params: 35,329\n",
      "Trainable params: 35,329\n",
      "Non-trainable params: 0\n",
      "_________________________________________________________________\n"
     ]
    }
   ],
   "source": [
    "model.summary()"
   ]
  },
  {
   "cell_type": "code",
   "execution_count": 39,
   "metadata": {},
   "outputs": [],
   "source": [
    "model.compile(optimizer=\"RMSprop\", \n",
    "             loss=\"mse\", \n",
    "             metrics=\"mse\")\n"
   ]
  },
  {
   "cell_type": "code",
   "execution_count": 40,
   "metadata": {
    "scrolled": true
   },
   "outputs": [
    {
     "name": "stdout",
     "output_type": "stream",
     "text": [
      "Epoch 1/100\n",
      "58/58 [==============================] - 1s 5ms/step - loss: 0.0707 - mse: 0.0707 - val_loss: 0.0180 - val_mse: 0.0180\n",
      "Epoch 2/100\n",
      "58/58 [==============================] - 0s 5ms/step - loss: 0.0133 - mse: 0.0133 - val_loss: 0.0061 - val_mse: 0.0061\n",
      "Epoch 3/100\n",
      "58/58 [==============================] - 0s 3ms/step - loss: 0.0103 - mse: 0.0103 - val_loss: 0.0253 - val_mse: 0.0253\n",
      "Epoch 4/100\n",
      "58/58 [==============================] - 0s 4ms/step - loss: 0.0083 - mse: 0.0083 - val_loss: 0.0149 - val_mse: 0.0149\n",
      "Epoch 5/100\n",
      "58/58 [==============================] - 0s 4ms/step - loss: 0.0072 - mse: 0.0072 - val_loss: 0.0086 - val_mse: 0.0086\n",
      "Epoch 6/100\n",
      "58/58 [==============================] - 0s 4ms/step - loss: 0.0090 - mse: 0.0090 - val_loss: 0.0048 - val_mse: 0.0048\n",
      "Epoch 7/100\n",
      "58/58 [==============================] - 0s 4ms/step - loss: 0.0054 - mse: 0.0054 - val_loss: 0.0054 - val_mse: 0.0054\n",
      "Epoch 8/100\n",
      "58/58 [==============================] - 0s 4ms/step - loss: 0.0070 - mse: 0.0070 - val_loss: 0.0377 - val_mse: 0.0377\n",
      "Epoch 9/100\n",
      "58/58 [==============================] - 0s 4ms/step - loss: 0.0075 - mse: 0.0075 - val_loss: 0.0099 - val_mse: 0.0099\n",
      "Epoch 10/100\n",
      "58/58 [==============================] - 0s 4ms/step - loss: 0.0056 - mse: 0.0056 - val_loss: 0.0231 - val_mse: 0.0231\n",
      "Epoch 11/100\n",
      "58/58 [==============================] - 0s 4ms/step - loss: 0.0041 - mse: 0.0041 - val_loss: 0.0254 - val_mse: 0.0254\n",
      "Epoch 12/100\n",
      "58/58 [==============================] - 0s 3ms/step - loss: 0.0056 - mse: 0.0056 - val_loss: 0.0042 - val_mse: 0.0042\n",
      "Epoch 13/100\n",
      "58/58 [==============================] - 0s 3ms/step - loss: 0.0047 - mse: 0.0047 - val_loss: 0.0046 - val_mse: 0.0046\n",
      "Epoch 14/100\n",
      "58/58 [==============================] - 0s 4ms/step - loss: 0.0050 - mse: 0.0050 - val_loss: 0.0188 - val_mse: 0.0188\n",
      "Epoch 15/100\n",
      "58/58 [==============================] - 0s 4ms/step - loss: 0.0043 - mse: 0.0043 - val_loss: 0.0044 - val_mse: 0.0044\n",
      "Epoch 16/100\n",
      "58/58 [==============================] - 0s 4ms/step - loss: 0.0039 - mse: 0.0039 - val_loss: 0.0057 - val_mse: 0.0057\n",
      "Epoch 17/100\n",
      "58/58 [==============================] - 0s 3ms/step - loss: 0.0050 - mse: 0.0050 - val_loss: 0.0043 - val_mse: 0.0043\n",
      "Epoch 18/100\n",
      "58/58 [==============================] - 0s 3ms/step - loss: 0.0034 - mse: 0.0034 - val_loss: 0.0119 - val_mse: 0.0119\n",
      "Epoch 19/100\n",
      "58/58 [==============================] - 0s 4ms/step - loss: 0.0045 - mse: 0.0045 - val_loss: 0.0106 - val_mse: 0.0106\n",
      "Epoch 20/100\n",
      "58/58 [==============================] - 0s 4ms/step - loss: 0.0049 - mse: 0.0049 - val_loss: 0.0045 - val_mse: 0.0045\n",
      "Epoch 21/100\n",
      "58/58 [==============================] - 0s 4ms/step - loss: 0.0050 - mse: 0.0050 - val_loss: 0.0079 - val_mse: 0.0079\n",
      "Epoch 22/100\n",
      "58/58 [==============================] - 0s 4ms/step - loss: 0.0037 - mse: 0.0037 - val_loss: 0.0157 - val_mse: 0.0157\n",
      "Epoch 23/100\n",
      "58/58 [==============================] - 0s 4ms/step - loss: 0.0039 - mse: 0.0039 - val_loss: 0.0063 - val_mse: 0.0063\n",
      "Epoch 24/100\n",
      "58/58 [==============================] - 0s 4ms/step - loss: 0.0049 - mse: 0.0049 - val_loss: 0.0105 - val_mse: 0.0105\n",
      "Epoch 25/100\n",
      "58/58 [==============================] - 0s 3ms/step - loss: 0.0032 - mse: 0.0032 - val_loss: 0.0073 - val_mse: 0.0073\n",
      "Epoch 26/100\n",
      "58/58 [==============================] - 0s 4ms/step - loss: 0.0036 - mse: 0.0036 - val_loss: 0.0049 - val_mse: 0.0049\n",
      "Epoch 27/100\n",
      "58/58 [==============================] - 0s 3ms/step - loss: 0.0041 - mse: 0.0041 - val_loss: 0.0043 - val_mse: 0.0043\n",
      "Epoch 28/100\n",
      "58/58 [==============================] - 0s 4ms/step - loss: 0.0030 - mse: 0.0030 - val_loss: 0.0046 - val_mse: 0.0046\n",
      "Epoch 29/100\n",
      "58/58 [==============================] - 0s 3ms/step - loss: 0.0029 - mse: 0.0029 - val_loss: 0.0046 - val_mse: 0.0046\n",
      "Epoch 30/100\n",
      "58/58 [==============================] - 0s 3ms/step - loss: 0.0036 - mse: 0.0036 - val_loss: 0.0044 - val_mse: 0.0044\n",
      "Epoch 31/100\n",
      "58/58 [==============================] - 0s 4ms/step - loss: 0.0034 - mse: 0.0034 - val_loss: 0.0045 - val_mse: 0.0045\n",
      "Epoch 32/100\n",
      "58/58 [==============================] - 0s 4ms/step - loss: 0.0035 - mse: 0.0035 - val_loss: 0.0059 - val_mse: 0.0059\n",
      "Epoch 33/100\n",
      "58/58 [==============================] - 0s 4ms/step - loss: 0.0039 - mse: 0.0039 - val_loss: 0.0074 - val_mse: 0.0074\n",
      "Epoch 34/100\n",
      "58/58 [==============================] - 0s 3ms/step - loss: 0.0035 - mse: 0.0035 - val_loss: 0.0189 - val_mse: 0.0189\n",
      "Epoch 35/100\n",
      "58/58 [==============================] - 0s 4ms/step - loss: 0.0035 - mse: 0.0035 - val_loss: 0.0049 - val_mse: 0.0049\n",
      "Epoch 36/100\n",
      "58/58 [==============================] - 0s 4ms/step - loss: 0.0035 - mse: 0.0035 - val_loss: 0.0088 - val_mse: 0.0088\n",
      "Epoch 37/100\n",
      "58/58 [==============================] - 0s 4ms/step - loss: 0.0037 - mse: 0.0037 - val_loss: 0.0130 - val_mse: 0.0130\n",
      "Epoch 38/100\n",
      "58/58 [==============================] - 0s 4ms/step - loss: 0.0034 - mse: 0.0034 - val_loss: 0.0050 - val_mse: 0.0050\n",
      "Epoch 39/100\n",
      "58/58 [==============================] - 0s 4ms/step - loss: 0.0028 - mse: 0.0028 - val_loss: 0.0117 - val_mse: 0.0117\n",
      "Epoch 40/100\n",
      "58/58 [==============================] - 0s 4ms/step - loss: 0.0033 - mse: 0.0033 - val_loss: 0.0048 - val_mse: 0.0048\n",
      "Epoch 41/100\n",
      "58/58 [==============================] - 0s 4ms/step - loss: 0.0027 - mse: 0.0027 - val_loss: 0.0061 - val_mse: 0.0061\n",
      "Epoch 42/100\n",
      "58/58 [==============================] - 0s 4ms/step - loss: 0.0037 - mse: 0.0037 - val_loss: 0.0043 - val_mse: 0.0043\n",
      "Epoch 43/100\n",
      "58/58 [==============================] - 0s 4ms/step - loss: 0.0039 - mse: 0.0039 - val_loss: 0.0048 - val_mse: 0.0048\n",
      "Epoch 44/100\n",
      "58/58 [==============================] - 0s 4ms/step - loss: 0.0033 - mse: 0.0033 - val_loss: 0.0057 - val_mse: 0.0057\n",
      "Epoch 45/100\n",
      "58/58 [==============================] - 0s 4ms/step - loss: 0.0042 - mse: 0.0042 - val_loss: 0.0077 - val_mse: 0.0077\n",
      "Epoch 46/100\n",
      "58/58 [==============================] - 0s 3ms/step - loss: 0.0038 - mse: 0.0038 - val_loss: 0.0043 - val_mse: 0.0043\n",
      "Epoch 47/100\n",
      "58/58 [==============================] - 0s 4ms/step - loss: 0.0038 - mse: 0.0038 - val_loss: 0.0045 - val_mse: 0.0045\n",
      "Epoch 48/100\n",
      "58/58 [==============================] - 0s 4ms/step - loss: 0.0034 - mse: 0.0034 - val_loss: 0.0086 - val_mse: 0.0086\n",
      "Epoch 49/100\n",
      "58/58 [==============================] - 0s 4ms/step - loss: 0.0032 - mse: 0.0032 - val_loss: 0.0205 - val_mse: 0.0205\n",
      "Epoch 50/100\n",
      "58/58 [==============================] - 0s 4ms/step - loss: 0.0035 - mse: 0.0035 - val_loss: 0.0061 - val_mse: 0.0061\n",
      "Epoch 51/100\n",
      "58/58 [==============================] - 0s 4ms/step - loss: 0.0028 - mse: 0.0028 - val_loss: 0.0060 - val_mse: 0.0060\n",
      "Epoch 52/100\n",
      "58/58 [==============================] - 0s 4ms/step - loss: 0.0030 - mse: 0.0030 - val_loss: 0.0063 - val_mse: 0.0063\n",
      "Epoch 53/100\n",
      "58/58 [==============================] - 0s 4ms/step - loss: 0.0026 - mse: 0.0026 - val_loss: 0.0080 - val_mse: 0.0080\n",
      "Epoch 54/100\n",
      "58/58 [==============================] - 0s 4ms/step - loss: 0.0037 - mse: 0.0037 - val_loss: 0.0104 - val_mse: 0.0104\n",
      "Epoch 55/100\n",
      "58/58 [==============================] - 0s 3ms/step - loss: 0.0030 - mse: 0.0030 - val_loss: 0.0052 - val_mse: 0.0052\n",
      "Epoch 56/100\n",
      "58/58 [==============================] - 0s 3ms/step - loss: 0.0031 - mse: 0.0031 - val_loss: 0.0057 - val_mse: 0.0057\n",
      "Epoch 57/100\n",
      "58/58 [==============================] - 0s 3ms/step - loss: 0.0031 - mse: 0.0031 - val_loss: 0.0082 - val_mse: 0.0082\n",
      "Epoch 58/100\n",
      "58/58 [==============================] - 0s 5ms/step - loss: 0.0029 - mse: 0.0029 - val_loss: 0.0078 - val_mse: 0.0078\n",
      "Epoch 59/100\n",
      "58/58 [==============================] - 0s 4ms/step - loss: 0.0030 - mse: 0.0030 - val_loss: 0.0060 - val_mse: 0.0060\n",
      "Epoch 60/100\n",
      "58/58 [==============================] - 0s 4ms/step - loss: 0.0032 - mse: 0.0032 - val_loss: 0.0044 - val_mse: 0.0044\n",
      "Epoch 61/100\n",
      "58/58 [==============================] - 0s 4ms/step - loss: 0.0033 - mse: 0.0033 - val_loss: 0.0054 - val_mse: 0.0054\n",
      "Epoch 62/100\n",
      "58/58 [==============================] - 0s 3ms/step - loss: 0.0033 - mse: 0.0033 - val_loss: 0.0044 - val_mse: 0.0044\n",
      "Epoch 63/100\n"
     ]
    },
    {
     "name": "stdout",
     "output_type": "stream",
     "text": [
      "58/58 [==============================] - 0s 3ms/step - loss: 0.0030 - mse: 0.0030 - val_loss: 0.0061 - val_mse: 0.0061\n",
      "Epoch 64/100\n",
      "58/58 [==============================] - 0s 3ms/step - loss: 0.0033 - mse: 0.0033 - val_loss: 0.0044 - val_mse: 0.0044\n",
      "Epoch 65/100\n",
      "58/58 [==============================] - 0s 3ms/step - loss: 0.0030 - mse: 0.0030 - val_loss: 0.0045 - val_mse: 0.0045\n",
      "Epoch 66/100\n",
      "58/58 [==============================] - 0s 3ms/step - loss: 0.0030 - mse: 0.0030 - val_loss: 0.0121 - val_mse: 0.0121\n",
      "Epoch 67/100\n",
      "58/58 [==============================] - 0s 3ms/step - loss: 0.0029 - mse: 0.0029 - val_loss: 0.0050 - val_mse: 0.0050\n",
      "Epoch 68/100\n",
      "58/58 [==============================] - 0s 3ms/step - loss: 0.0032 - mse: 0.0032 - val_loss: 0.0043 - val_mse: 0.0043\n",
      "Epoch 69/100\n",
      "58/58 [==============================] - 0s 3ms/step - loss: 0.0030 - mse: 0.0030 - val_loss: 0.0045 - val_mse: 0.0045\n",
      "Epoch 70/100\n",
      "58/58 [==============================] - 0s 3ms/step - loss: 0.0027 - mse: 0.0027 - val_loss: 0.0083 - val_mse: 0.0083\n",
      "Epoch 71/100\n",
      "58/58 [==============================] - 0s 3ms/step - loss: 0.0032 - mse: 0.0032 - val_loss: 0.0049 - val_mse: 0.0049\n",
      "Epoch 72/100\n",
      "58/58 [==============================] - 0s 4ms/step - loss: 0.0026 - mse: 0.0026 - val_loss: 0.0270 - val_mse: 0.0270\n",
      "Epoch 73/100\n",
      "58/58 [==============================] - 0s 3ms/step - loss: 0.0043 - mse: 0.0043 - val_loss: 0.0048 - val_mse: 0.0048\n",
      "Epoch 74/100\n",
      "58/58 [==============================] - 0s 6ms/step - loss: 0.0029 - mse: 0.0029 - val_loss: 0.0075 - val_mse: 0.0075\n",
      "Epoch 75/100\n",
      "58/58 [==============================] - 0s 4ms/step - loss: 0.0030 - mse: 0.0030 - val_loss: 0.0123 - val_mse: 0.0123\n",
      "Epoch 76/100\n",
      "58/58 [==============================] - 0s 3ms/step - loss: 0.0031 - mse: 0.0031 - val_loss: 0.0087 - val_mse: 0.0087\n",
      "Epoch 77/100\n",
      "58/58 [==============================] - 0s 4ms/step - loss: 0.0025 - mse: 0.0025 - val_loss: 0.0061 - val_mse: 0.0061\n",
      "Epoch 78/100\n",
      "58/58 [==============================] - 0s 3ms/step - loss: 0.0024 - mse: 0.0024 - val_loss: 0.0043 - val_mse: 0.0043\n",
      "Epoch 79/100\n",
      "58/58 [==============================] - 0s 3ms/step - loss: 0.0033 - mse: 0.0033 - val_loss: 0.0156 - val_mse: 0.0156\n",
      "Epoch 80/100\n",
      "58/58 [==============================] - 0s 3ms/step - loss: 0.0031 - mse: 0.0031 - val_loss: 0.0077 - val_mse: 0.0077\n",
      "Epoch 81/100\n",
      "58/58 [==============================] - 0s 3ms/step - loss: 0.0028 - mse: 0.0028 - val_loss: 0.0044 - val_mse: 0.0044\n",
      "Epoch 82/100\n",
      "58/58 [==============================] - 0s 3ms/step - loss: 0.0021 - mse: 0.0021 - val_loss: 0.0048 - val_mse: 0.0048\n",
      "Epoch 83/100\n",
      "58/58 [==============================] - 0s 3ms/step - loss: 0.0024 - mse: 0.0024 - val_loss: 0.0102 - val_mse: 0.0102\n",
      "Epoch 84/100\n",
      "58/58 [==============================] - 0s 3ms/step - loss: 0.0023 - mse: 0.0023 - val_loss: 0.0058 - val_mse: 0.0058\n",
      "Epoch 85/100\n",
      "58/58 [==============================] - 0s 3ms/step - loss: 0.0032 - mse: 0.0032 - val_loss: 0.0047 - val_mse: 0.0047\n",
      "Epoch 86/100\n",
      "58/58 [==============================] - 0s 3ms/step - loss: 0.0031 - mse: 0.0031 - val_loss: 0.0052 - val_mse: 0.0052\n",
      "Epoch 87/100\n",
      "58/58 [==============================] - 0s 3ms/step - loss: 0.0034 - mse: 0.0034 - val_loss: 0.0079 - val_mse: 0.0079\n",
      "Epoch 88/100\n",
      "58/58 [==============================] - 0s 3ms/step - loss: 0.0023 - mse: 0.0023 - val_loss: 0.0045 - val_mse: 0.0045\n",
      "Epoch 89/100\n",
      "58/58 [==============================] - 0s 3ms/step - loss: 0.0023 - mse: 0.0023 - val_loss: 0.0116 - val_mse: 0.0116\n",
      "Epoch 90/100\n",
      "58/58 [==============================] - 0s 3ms/step - loss: 0.0025 - mse: 0.0025 - val_loss: 0.0060 - val_mse: 0.0060\n",
      "Epoch 91/100\n",
      "58/58 [==============================] - 0s 3ms/step - loss: 0.0023 - mse: 0.0023 - val_loss: 0.0048 - val_mse: 0.0048\n",
      "Epoch 92/100\n",
      "58/58 [==============================] - 0s 3ms/step - loss: 0.0028 - mse: 0.0028 - val_loss: 0.0088 - val_mse: 0.0088\n",
      "Epoch 93/100\n",
      "58/58 [==============================] - 0s 3ms/step - loss: 0.0024 - mse: 0.0024 - val_loss: 0.0116 - val_mse: 0.0116\n",
      "Epoch 94/100\n",
      "58/58 [==============================] - 0s 3ms/step - loss: 0.0032 - mse: 0.0032 - val_loss: 0.0050 - val_mse: 0.0050\n",
      "Epoch 95/100\n",
      "58/58 [==============================] - 0s 3ms/step - loss: 0.0032 - mse: 0.0032 - val_loss: 0.0085 - val_mse: 0.0085\n",
      "Epoch 96/100\n",
      "58/58 [==============================] - 0s 3ms/step - loss: 0.0023 - mse: 0.0023 - val_loss: 0.0060 - val_mse: 0.0060\n",
      "Epoch 97/100\n",
      "58/58 [==============================] - 0s 3ms/step - loss: 0.0026 - mse: 0.0026 - val_loss: 0.0098 - val_mse: 0.0098\n",
      "Epoch 98/100\n",
      "58/58 [==============================] - 0s 3ms/step - loss: 0.0027 - mse: 0.0027 - val_loss: 0.0135 - val_mse: 0.0135\n",
      "Epoch 99/100\n",
      "58/58 [==============================] - 0s 3ms/step - loss: 0.0024 - mse: 0.0024 - val_loss: 0.0124 - val_mse: 0.0124\n",
      "Epoch 100/100\n",
      "58/58 [==============================] - 0s 3ms/step - loss: 0.0030 - mse: 0.0030 - val_loss: 0.0073 - val_mse: 0.0073\n"
     ]
    }
   ],
   "source": [
    "history = model.fit(x_train_ds, validation_data = x_val_ds, epochs = 100)"
   ]
  }
 ],
 "metadata": {
  "kernelspec": {
   "display_name": "Python 3",
   "language": "python",
   "name": "python3"
  },
  "language_info": {
   "codemirror_mode": {
    "name": "ipython",
    "version": 3
   },
   "file_extension": ".py",
   "mimetype": "text/x-python",
   "name": "python",
   "nbconvert_exporter": "python",
   "pygments_lexer": "ipython3",
   "version": "3.8.3"
  }
 },
 "nbformat": 4,
 "nbformat_minor": 4
}
